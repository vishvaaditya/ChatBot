{
  "nbformat": 4,
  "nbformat_minor": 0,
  "metadata": {
    "language_info": {
      "codemirror_mode": {
        "name": "ipython",
        "version": 3
      },
      "file_extension": ".py",
      "mimetype": "text/x-python",
      "name": "python",
      "nbconvert_exporter": "python",
      "pygments_lexer": "ipython3",
      "version": "3.7.10"
    },
    "orig_nbformat": 2,
    "kernelspec": {
      "name": "python3",
      "display_name": "Python 3.7.10 64-bit ('env': venv)",
      "metadata": {
        "interpreter": {
          "hash": "6e32e1d28f88a8b0d77932f402098c4f3443224fe056142dcf7528cb97b8ea5e"
        }
      }
    },
    "colab": {
      "name": "Chatbot.ipynb",
      "provenance": [],
      "collapsed_sections": [],
      "include_colab_link": true
    }
  },
  "cells": [
    {
      "cell_type": "markdown",
      "metadata": {
        "id": "view-in-github",
        "colab_type": "text"
      },
      "source": [
        "<a href=\"https://colab.research.google.com/github/vishvaaditya/file/blob/main/Chatbot.ipynb\" target=\"_parent\"><img src=\"https://colab.research.google.com/assets/colab-badge.svg\" alt=\"Open In Colab\"/></a>"
      ]
    },
    {
      "cell_type": "markdown",
      "metadata": {
        "id": "Br4q6Nc9A4iW"
      },
      "source": [
        "# Importing libraries and downloading packages"
      ]
    },
    {
      "cell_type": "code",
      "metadata": {
        "id": "QNt7tOcEC48w"
      },
      "source": [
        "import nltk\n",
        "import numpy as np"
      ],
      "execution_count": null,
      "outputs": []
    },
    {
      "cell_type": "code",
      "metadata": {
        "id": "sgKLrIjRC486"
      },
      "source": [
        "# downloading model to tokenize message\n",
        "nltk.download('punkt')\n",
        "# downloading stopwords\n",
        "nltk.download('stopwords')\n",
        "# downloading wordnet, which contains all lemmas of english language\n",
        "nltk.download('wordnet')"
      ],
      "execution_count": null,
      "outputs": []
    },
    {
      "cell_type": "code",
      "metadata": {
        "id": "Cy4x4jMmC488"
      },
      "source": [
        "from nltk.tokenize import word_tokenize\n",
        "\n",
        "from nltk.corpus import stopwords\n",
        "stop_words = stopwords.words('english')\n",
        "\n",
        "from nltk.stem import WordNetLemmatizer"
      ],
      "execution_count": null,
      "outputs": []
    },
    {
      "cell_type": "code",
      "metadata": {
        "id": "7Q3fIVZVdYDG"
      },
      "source": [
        "stop_words"
      ],
      "execution_count": null,
      "outputs": []
    },
    {
      "cell_type": "markdown",
      "metadata": {
        "id": "XW2vOhbcBMXY"
      },
      "source": [
        "# Function to clean text"
      ]
    },
    {
      "cell_type": "code",
      "metadata": {
        "id": "A_End2kUC489"
      },
      "source": [
        "def clean_corpus(corpus):\n",
        "  # lowering every word in text\n",
        "  corpus = [ doc.lower() for doc in corpus]\n",
        "  cleaned_corpus = []\n",
        "  \n",
        "  stop_words = stopwords.words('english')\n",
        "  wordnet_lemmatizer = WordNetLemmatizer()\n",
        "\n",
        "  # iterating over every text[a,b,c]='a b c'\n",
        "  for doc in corpus:\n",
        "    # tokenizing text\n",
        "    tokens = word_tokenize(doc)\n",
        "    cleaned_sentence = [] \n",
        "    for token in tokens: \n",
        "      # removing stopwords, and punctuation\n",
        "      if token not in stop_words and token.isalpha(): \n",
        "        # applying lemmatization\n",
        "        cleaned_sentence.append(wordnet_lemmatizer.lemmatize(token)) \n",
        "    cleaned_corpus.append(' '.join(cleaned_sentence))\n",
        "  return cleaned_corpus"
      ],
      "execution_count": null,
      "outputs": []
    },
    {
      "cell_type": "code",
      "metadata": {
        "id": "1Q_dP2CozTVE"
      },
      "source": [
        ""
      ],
      "execution_count": null,
      "outputs": []
    },
    {
      "cell_type": "markdown",
      "metadata": {
        "id": "97atD-mrBq_E"
      },
      "source": [
        "# Loading and cleaning intents"
      ]
    },
    {
      "cell_type": "code",
      "metadata": {
        "id": "KJSB62LkbzIb"
      },
      "source": [
        "!wget -O intents.json https://techlearn-cdn.s3.amazonaws.com/bs_swiggy_chatbot/intent.json"
      ],
      "execution_count": null,
      "outputs": []
    },
    {
      "cell_type": "code",
      "metadata": {
        "id": "BklOwtYLC48-"
      },
      "source": [
        "import json\n",
        "with open('intents.json', 'r') as file:\n",
        "  intents = json.load(file)"
      ],
      "execution_count": null,
      "outputs": []
    },
    {
      "cell_type": "code",
      "metadata": {
        "id": "6CEzIy-WC48_"
      },
      "source": [
        "corpus = []\n",
        "tags = []\n",
        "\n",
        "for intent in intents['intents']:\n",
        "    # taking all patterns in intents to train a neural network\n",
        "    for pattern in intent['patterns']:\n",
        "        corpus.append(pattern)\n",
        "        tags.append(intent['tag'])"
      ],
      "execution_count": null,
      "outputs": []
    },
    {
      "cell_type": "code",
      "metadata": {
        "id": "m_z4eHK5-mck"
      },
      "source": [
        ""
      ],
      "execution_count": null,
      "outputs": []
    },
    {
      "cell_type": "code",
      "metadata": {
        "id": "_jqWKIzkC48_"
      },
      "source": [
        "cleaned_corpus = clean_corpus(corpus)\n",
        "cleaned_corpus"
      ],
      "execution_count": null,
      "outputs": []
    },
    {
      "cell_type": "markdown",
      "metadata": {
        "id": "h5nAAo7PB1Kz"
      },
      "source": [
        "# Vectorizing intents"
      ]
    },
    {
      "cell_type": "code",
      "metadata": {
        "id": "1Y_ngS1NC49A"
      },
      "source": [
        "from sklearn.feature_extraction.text import TfidfVectorizer\n",
        "\n",
        "vectorizer = TfidfVectorizer()\n",
        "X = vectorizer.fit_transform(cleaned_corpus)"
      ],
      "execution_count": null,
      "outputs": []
    },
    {
      "cell_type": "code",
      "metadata": {
        "id": "8PekvuYZDaAH"
      },
      "source": [
        "from sklearn.preprocessing import OneHotEncoder\n",
        "\n",
        "encoder = OneHotEncoder()\n",
        "y = encoder.fit_transform(np.array(tags).reshape(-1,1))"
      ],
      "execution_count": null,
      "outputs": []
    },
    {
      "cell_type": "markdown",
      "metadata": {
        "id": "BPtJ-gk5B5kN"
      },
      "source": [
        "# Training neural network"
      ]
    },
    {
      "cell_type": "code",
      "metadata": {
        "id": "RT_NXJApEYdr"
      },
      "source": [
        "from tensorflow.keras import Sequential\n",
        "from tensorflow.keras.layers import Dense, Dropout\n",
        "\n",
        "model = Sequential([\n",
        "                    Dense(128, input_shape=(X.shape[1],), activation='relu'),\n",
        "                    Dropout(0.2),\n",
        "                    Dense(64, activation='relu'),\n",
        "                    Dropout(0.2),\n",
        "                    Dense(y.shape[1], activation='softmax')\n",
        "])\n",
        "\n",
        "model.compile(loss='categorical_crossentropy', optimizer='adam', metrics=['accuracy'])\n",
        "model.summary()"
      ],
      "execution_count": null,
      "outputs": []
    },
    {
      "cell_type": "code",
      "metadata": {
        "id": "hQif3TZ2FwbK"
      },
      "source": [
        "history = model.fit(X.toarray(), y.toarray(), epochs=20, batch_size=1)"
      ],
      "execution_count": null,
      "outputs": []
    },
    {
      "cell_type": "markdown",
      "metadata": {
        "id": "vhbHBoOhB_hm"
      },
      "source": [
        "# Classifying messages to intent"
      ]
    },
    {
      "cell_type": "markdown",
      "metadata": {
        "id": "h9PNlGPAVwQW"
      },
      "source": [
        "1. If the intent probability does not match with any intent, then send it to no answer.\n",
        "\n",
        "2. Get Intent\n",
        "\n",
        "3. Perform Action\n"
      ]
    },
    {
      "cell_type": "code",
      "metadata": {
        "id": "xoEL5PgKG-sv"
      },
      "source": [
        "# if prediction for every tag is low, then we want to classify that message as noanswer\n",
        "\n",
        "INTENT_NOT_FOUND_THRESHOLD = 0.40\n",
        "\n",
        "def predict_intent_tag(message):\n",
        "  message = clean_corpus([message])\n",
        "  X_test = vectorizer.transform(message)\n",
        "  #print(message)\n",
        "  #print(X_test.toarray())\n",
        "  y = model.predict(X_test.toarray())\n",
        "  #print (y)\n",
        "  # if probability of all intent is low, classify it as noanswer\n",
        "  if y.max() < INTENT_NOT_FOUND_THRESHOLD:\n",
        "    return 'noanswer'\n",
        "  \n",
        "  prediction = np.zeros_like(y[0])\n",
        "  prediction[y.argmax()] = 1\n",
        "  tag = encoder.inverse_transform([prediction])[0][0]\n",
        "  return tag\n",
        "\n",
        "print(predict_intent_tag('How you could help me?'))\n",
        "print(predict_intent_tag('swiggy chat bot'))\n",
        "print(predict_intent_tag('Where\\'s my order'))\n"
      ],
      "execution_count": null,
      "outputs": []
    },
    {
      "cell_type": "code",
      "metadata": {
        "id": "VSM0pSo-P91L"
      },
      "source": [
        "import random\n",
        "import time "
      ],
      "execution_count": null,
      "outputs": []
    },
    {
      "cell_type": "code",
      "metadata": {
        "id": "ziNmSPKCLJSz"
      },
      "source": [
        "def get_intent(tag):\n",
        "  # to return complete intent from intent tag\n",
        "  for intent in intents['intents']:\n",
        "    if intent['tag'] == tag:\n",
        "      return intent"
      ],
      "execution_count": null,
      "outputs": []
    },
    {
      "cell_type": "code",
      "metadata": {
        "id": "H0x8dXrlPjIp"
      },
      "source": [
        "def perform_action(action_code, intent):\n",
        "  # funition to perform an action which is required by intent\n",
        "  \n",
        "  if action_code == 'CHECK_ORDER_STATUS':\n",
        "    print('\\n Checking database \\n')\n",
        "    time.sleep(2)\n",
        "    order_status = ['in kitchen', 'with delivery executive']\n",
        "    delivery_time = []\n",
        "    return {'intent-tag':intent['next-intent-tag'][0],\n",
        "            'order_status': random.choice(order_status),\n",
        "            'delivery_time': random.randint(10, 30)}\n",
        "  \n",
        "  elif action_code == 'ORDER_CANCEL_CONFIRMATION':\n",
        "    ch = input('BOT: Do you want to continue (Y/n) ?')\n",
        "    if ch == 'y' or ch == 'Y':\n",
        "      choice = 0\n",
        "    else:\n",
        "      choice = 1\n",
        "    return {'intent-tag':intent['next-intent-tag'][choice]}\n",
        "  \n",
        "  elif action_code == 'ADD_DELIVERY_INSTRUCTIONS':\n",
        "    instructions = input('Your Instructions: ')\n",
        "    return {'intent-tag':intent['next-intent-tag'][0]}"
      ],
      "execution_count": null,
      "outputs": []
    },
    {
      "cell_type": "markdown",
      "metadata": {
        "id": "zg_Ct0YQCry5"
      },
      "source": [
        "# Complete chat bot"
      ]
    },
    {
      "cell_type": "code",
      "metadata": {
        "id": "axwe43o_JRm6"
      },
      "source": [
        "while True:\n",
        "  # get message from user\n",
        "  message = input('You: ')\n",
        "  # predict intent tag using trained neural network\n",
        "  tag = predict_intent_tag(message)\n",
        "  # get complete intent from intent tag\n",
        "  intent = get_intent(tag)\n",
        "  # generate random response from intent\n",
        "  response = random.choice(intent['responses'])\n",
        "  print('Bot: ', response)\n",
        "\n",
        "  # check if there's a need to perform some action\n",
        "  if 'action' in intent.keys():\n",
        "    action_code = intent['action']\n",
        "    # perform action\n",
        "    data = perform_action(action_code, intent)\n",
        "    # get follow up intent after performing action\n",
        "    followup_intent = get_intent(data['intent-tag'])\n",
        "    # generate random response from follow up intent\n",
        "    response = random.choice(followup_intent['responses'])\n",
        "    \n",
        "    # print randomly selected response\n",
        "    if len(data.keys()) > 1:\n",
        "      print('Bot: ', response.format(**data))\n",
        "    else:\n",
        "      print('Bot: ', response)\n",
        "\n",
        "  # break loop if intent was goodbye\n",
        "  if tag == 'goodbye':\n",
        "    break"
      ],
      "execution_count": null,
      "outputs": []
    },
    {
      "cell_type": "code",
      "source": [
        ""
      ],
      "metadata": {
        "id": "nf7MYxw5F3qQ"
      },
      "execution_count": null,
      "outputs": []
    },
    {
      "cell_type": "code",
      "source": [
        ""
      ],
      "metadata": {
        "id": "xBF59q4X9vkq"
      },
      "execution_count": null,
      "outputs": []
    },
    {
      "cell_type": "code",
      "source": [
        ""
      ],
      "metadata": {
        "id": "kO_gfwKi9sPZ"
      },
      "execution_count": null,
      "outputs": []
    },
    {
      "cell_type": "code",
      "metadata": {
        "id": "NNIlpnMWgCRu"
      },
      "source": [
        ""
      ],
      "execution_count": null,
      "outputs": []
    }
  ]
}